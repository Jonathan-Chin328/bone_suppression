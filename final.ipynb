{
  "cells": [
    {
      "cell_type": "markdown",
      "metadata": {
        "id": "kUFAm_npYntx"
      },
      "source": [
        "## Environment setting"
      ]
    },
    {
      "cell_type": "code",
      "source": [
        "# if you don't want to store resource in your drive, you can skip this part\n",
        "from google.colab import drive\n",
        "drive.mount('/content/drive')"
      ],
      "metadata": {
        "colab": {
          "base_uri": "https://localhost:8080/"
        },
        "id": "xmILrFkrS5JB",
        "outputId": "95bc6585-4c24-40a5-d8bf-91cb0a57f4c7"
      },
      "execution_count": 1,
      "outputs": [
        {
          "output_type": "stream",
          "name": "stdout",
          "text": [
            "Mounted at /content/drive\n"
          ]
        }
      ]
    },
    {
      "cell_type": "markdown",
      "metadata": {
        "id": "p19qTix9KDnd"
      },
      "source": [
        "### Git Clone project\n",
        "\n",
        "After cloning the project, change the save_path in bone_suprression/config/train.yaml to store your result in your drive."
      ]
    },
    {
      "cell_type": "code",
      "execution_count": 2,
      "metadata": {
        "colab": {
          "base_uri": "https://localhost:8080/"
        },
        "id": "Z3S3vZcL-7ST",
        "outputId": "add2d934-f8ef-4c85-a720-0bfdbf228165"
      },
      "outputs": [
        {
          "output_type": "stream",
          "name": "stdout",
          "text": [
            "Cloning into 'bone_suppression'...\n",
            "remote: Enumerating objects: 57, done.\u001b[K\n",
            "remote: Counting objects: 100% (57/57), done.\u001b[K\n",
            "remote: Compressing objects: 100% (40/40), done.\u001b[K\n",
            "remote: Total 57 (delta 29), reused 45 (delta 17), pack-reused 0\u001b[K\n",
            "Unpacking objects: 100% (57/57), done.\n"
          ]
        }
      ],
      "source": [
        "!git clone https://github.com/Jonathan-Chin328/bone_suppression.git\n",
        "\n",
        "# change the train.yaml save_path to '../drive/MyDrive/ColabNotebooks/output/res_pca'"
      ]
    },
    {
      "cell_type": "markdown",
      "metadata": {
        "id": "wcLYUW7_KKae"
      },
      "source": [
        "### Get dataset from kaggle"
      ]
    },
    {
      "cell_type": "code",
      "execution_count": 3,
      "metadata": {
        "id": "LxQaKWMXIai9"
      },
      "outputs": [],
      "source": [
        "import os\n",
        "\n",
        "os.chdir('/content/bone_suppression')\n",
        "if not os.path.exists('/content/bone_suppression/dataset'):\n",
        "    os.makedirs('dataset')\n",
        "os.chdir('dataset')"
      ]
    },
    {
      "cell_type": "code",
      "execution_count": 4,
      "metadata": {
        "id": "eq5yvemgL6-a"
      },
      "outputs": [],
      "source": [
        "import json\n",
        "# Todo 1: create kaggle api token json file\n",
        "api_token = {\n",
        "    \"username\":\"YOUR KAGGLE USER NAME\",                   # change to your own username and key\n",
        "    \"key\":\"YOUR KAGGLE KEY\"\n",
        "}\n",
        "with open('kaggle.json', 'w') as file:\n",
        "    json.dump(api_token, file)\n",
        "\n",
        "os.environ['KAGGLE_CONFIG_DIR']= '/content/bone_suppression/dataset'\n",
        "os.chdir('/content/bone_suppression/dataset')"
      ]
    },
    {
      "cell_type": "code",
      "execution_count": 5,
      "metadata": {
        "colab": {
          "base_uri": "https://localhost:8080/"
        },
        "id": "vh9TFqqGIlH7",
        "outputId": "4f397972-7006-4a11-a813-4f22e1b5af56"
      },
      "outputs": [
        {
          "output_type": "stream",
          "name": "stdout",
          "text": [
            "Warning: Your Kaggle API key is readable by other users on this system! To fix this, you can run 'chmod 600 /content/bone_suppression/dataset/kaggle.json'\n",
            "Downloading xray-bone-shadow-supression.zip to /content/bone_suppression/dataset\n",
            "100% 5.22G/5.23G [02:51<00:00, 32.0MB/s]\n",
            "100% 5.23G/5.23G [02:51<00:00, 32.7MB/s]\n"
          ]
        }
      ],
      "source": [
        "!kaggle datasets download -d hmchuong/xray-bone-shadow-supression --unzip\n",
        "!chmod 600 /content/bone_suppression/dataset/kaggle.json"
      ]
    },
    {
      "cell_type": "markdown",
      "metadata": {
        "id": "2kEqhwQ3UG1A"
      },
      "source": [
        "### Trnasfer dataset to normal x-aray format"
      ]
    },
    {
      "cell_type": "code",
      "execution_count": 6,
      "metadata": {
        "id": "LSNJQpiHUGlZ"
      },
      "outputs": [],
      "source": [
        "# create folder to store transfered data\n",
        "os.chdir('/content/bone_suppression/dataset/augmented')\n",
        "if not os.path.exists('convert_augmented'):\n",
        "    os.makedirs('convert_augmented')\n",
        "!cp -R augmented/* convert_augmented"
      ]
    },
    {
      "cell_type": "code",
      "execution_count": 7,
      "metadata": {
        "colab": {
          "base_uri": "https://localhost:8080/"
        },
        "id": "1GEPNifMVj0D",
        "outputId": "cd479935-39f3-468c-f2b6-37b4fecc9cdc"
      },
      "outputs": [
        {
          "output_type": "stream",
          "name": "stdout",
          "text": [
            "start transfer source...\n",
            "1000\n",
            "2000\n",
            "3000\n",
            "4000\n",
            "start transfer target...\n",
            "1000\n",
            "2000\n",
            "3000\n",
            "4000\n"
          ]
        }
      ],
      "source": [
        "os.chdir('/content/bone_suppression')\n",
        "!python transfer.py"
      ]
    },
    {
      "cell_type": "markdown",
      "metadata": {
        "id": "DhECxb4vYRhY"
      },
      "source": [
        "### Package installation"
      ]
    },
    {
      "cell_type": "code",
      "execution_count": 8,
      "metadata": {
        "colab": {
          "base_uri": "https://localhost:8080/"
        },
        "id": "QbsH1m4QYUsH",
        "outputId": "76a77992-ae76-4d08-dd2f-2b1ef971422f"
      },
      "outputs": [
        {
          "output_type": "stream",
          "name": "stdout",
          "text": [
            "Looking in indexes: https://pypi.org/simple, https://us-python.pkg.dev/colab-wheels/public/simple/\n",
            "Collecting pytorch_msssim\n",
            "  Downloading pytorch_msssim-0.2.1-py3-none-any.whl (7.2 kB)\n",
            "Requirement already satisfied: torch in /usr/local/lib/python3.8/dist-packages (from pytorch_msssim) (1.13.0+cu116)\n",
            "Requirement already satisfied: typing-extensions in /usr/local/lib/python3.8/dist-packages (from torch->pytorch_msssim) (4.4.0)\n",
            "Installing collected packages: pytorch-msssim\n",
            "Successfully installed pytorch-msssim-0.2.1\n",
            "Looking in indexes: https://pypi.org/simple, https://us-python.pkg.dev/colab-wheels/public/simple/\n",
            "Collecting tensorboardX\n",
            "  Downloading tensorboardX-2.5.1-py2.py3-none-any.whl (125 kB)\n",
            "\u001b[K     |████████████████████████████████| 125 kB 14.1 MB/s \n",
            "\u001b[?25hRequirement already satisfied: numpy in /usr/local/lib/python3.8/dist-packages (from tensorboardX) (1.21.6)\n",
            "Requirement already satisfied: protobuf<=3.20.1,>=3.8.0 in /usr/local/lib/python3.8/dist-packages (from tensorboardX) (3.19.6)\n",
            "Installing collected packages: tensorboardX\n",
            "Successfully installed tensorboardX-2.5.1\n"
          ]
        }
      ],
      "source": [
        "!pip install pytorch_msssim\n",
        "!pip install tensorboardX"
      ]
    },
    {
      "cell_type": "markdown",
      "metadata": {
        "id": "XtdjoeEGXOUk"
      },
      "source": [
        "## Start Training"
      ]
    },
    {
      "cell_type": "code",
      "execution_count": null,
      "metadata": {
        "id": "7LSHNzzKYHb1"
      },
      "outputs": [],
      "source": [
        "!python train.py --config ./config/train.yaml"
      ]
    },
    {
      "cell_type": "code",
      "source": [
        "!ls"
      ],
      "metadata": {
        "id": "18FlvRDk-6xD"
      },
      "execution_count": null,
      "outputs": []
    },
    {
      "cell_type": "code",
      "execution_count": null,
      "metadata": {
        "id": "3lidX5WvZY1c"
      },
      "outputs": [],
      "source": [
        "# %load_ext tensorboard\n",
        "dir = '/content/drive/MyDrive/Colab_Notebooks/NYU/final/output/pca'\n",
        "%tensorboard --logdir {dir}"
      ]
    },
    {
      "cell_type": "markdown",
      "metadata": {
        "id": "gehuUreeuV9q"
      },
      "source": [
        "### Upload output"
      ]
    },
    {
      "cell_type": "code",
      "execution_count": null,
      "metadata": {
        "id": "gaeDYb2ruZdA"
      },
      "outputs": [],
      "source": [
        "from google.colab import files\n",
        "uploaded = files.upload()"
      ]
    },
    {
      "cell_type": "code",
      "execution_count": null,
      "metadata": {
        "id": "8LZlOErDvNLo"
      },
      "outputs": [],
      "source": [
        "!unzip output.zip"
      ]
    },
    {
      "cell_type": "markdown",
      "metadata": {
        "id": "fm_U9U7EuSKM"
      },
      "source": [
        "### Download output"
      ]
    },
    {
      "cell_type": "code",
      "execution_count": null,
      "metadata": {
        "id": "THHnV3zVm_1T"
      },
      "outputs": [],
      "source": [
        "from google.colab import files\n",
        "!zip -r output.zip output/\n",
        "files.download(\"output.zip\")"
      ]
    },
    {
      "cell_type": "code",
      "execution_count": null,
      "metadata": {
        "id": "xBSjzkG3vURq"
      },
      "outputs": [],
      "source": [
        "!rm -r output.zip"
      ]
    }
  ],
  "metadata": {
    "accelerator": "GPU",
    "colab": {
      "provenance": []
    },
    "gpuClass": "standard",
    "kernelspec": {
      "display_name": "Python 3",
      "name": "python3"
    },
    "language_info": {
      "name": "python"
    }
  },
  "nbformat": 4,
  "nbformat_minor": 0
}